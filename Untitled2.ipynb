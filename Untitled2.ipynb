{
  "nbformat": 4,
  "nbformat_minor": 0,
  "metadata": {
    "colab": {
      "provenance": [],
      "authorship_tag": "ABX9TyO2lESc0ImXX6e3KyFUl3K+",
      "include_colab_link": true
    },
    "kernelspec": {
      "name": "python3",
      "display_name": "Python 3"
    },
    "language_info": {
      "name": "python"
    }
  },
  "cells": [
    {
      "cell_type": "markdown",
      "metadata": {
        "id": "view-in-github",
        "colab_type": "text"
      },
      "source": [
        "<a href=\"https://colab.research.google.com/github/RAJITHAREDDYTIRUTHANI/Microemotion-based-music/blob/main/Untitled2.ipynb\" target=\"_parent\"><img src=\"https://colab.research.google.com/assets/colab-badge.svg\" alt=\"Open In Colab\"/></a>"
      ]
    },
    {
      "cell_type": "code",
      "execution_count": 1,
      "metadata": {
        "id": "zN-UA26upEai"
      },
      "outputs": [],
      "source": [
        "df_stu = {1: {'name': 'John', 'age': '17', 'sex': 'Male', 'SchoolEnrolled': 'Princeton', 'SatScore': 1800},\n",
        "            2: {'name': 'Marie', 'age': '18', 'sex': 'Female', 'SchoolEnrolled': 'Harvard', 'SatScore': 1550},\n",
        "            3: {'name': 'Amanda', 'age': '16', 'sex': 'Female', 'SchoolEnrolled': 'Columbia', 'SatScore': 1700},\n",
        "            4: {'name': 'Jody', 'age': '17', 'sex': 'Female', 'SchoolEnrolled': 'MIT', 'SatScore': 1600},\n",
        "            5: {'name': 'Stacy', 'age': '18', 'sex': 'Female', 'SchoolEnrolled': 'Yale', 'SatScore': 1650},\n",
        "            6: {'name': 'Brian', 'age': '17', 'sex': 'Male', 'SchoolEnrolled': 'Stanford', 'SatScore': 1500},\n",
        "            7: {'name': 'Brad', 'age': '16', 'sex': 'Male', 'SchoolEnrolled': 'UChicago', 'SatScore': 1550},\n",
        "            8: {'name': 'Mark', 'age': '15', 'sex': 'Male', 'SchoolEnrolled': 'Penn', 'SatScore': 1400},\n",
        "            9: {'name': 'Susan', 'age': '16', 'sex': 'Female', 'SchoolEnrolled': 'CalTech', 'SatScore': 1450},\n",
        "            10: {'name': 'Jim', 'age': '16', 'sex': 'Male', 'SchoolEnrolled': 'Duke', 'SatScore': 1300}}\n"
      ]
    },
    {
      "cell_type": "code",
      "source": [
        "import pandas as pd\n",
        "df_stu =pd.DataFrame(df_stu).T\n",
        "df_stu"
      ],
      "metadata": {
        "colab": {
          "base_uri": "https://localhost:8080/",
          "height": 363
        },
        "id": "pcH96CNnpNlW",
        "outputId": "0b86d2f8-708a-4907-9e72-a2174f9c937f"
      },
      "execution_count": 2,
      "outputs": [
        {
          "output_type": "execute_result",
          "data": {
            "text/plain": [
              "      name age     sex SchoolEnrolled SatScore\n",
              "1     John  17    Male      Princeton     1800\n",
              "2    Marie  18  Female        Harvard     1550\n",
              "3   Amanda  16  Female       Columbia     1700\n",
              "4     Jody  17  Female            MIT     1600\n",
              "5    Stacy  18  Female           Yale     1650\n",
              "6    Brian  17    Male       Stanford     1500\n",
              "7     Brad  16    Male       UChicago     1550\n",
              "8     Mark  15    Male           Penn     1400\n",
              "9    Susan  16  Female        CalTech     1450\n",
              "10     Jim  16    Male           Duke     1300"
            ],
            "text/html": [
              "\n",
              "  <div id=\"df-09e20bf7-3d3c-4f54-916b-2153d1670f3e\" class=\"colab-df-container\">\n",
              "    <div>\n",
              "<style scoped>\n",
              "    .dataframe tbody tr th:only-of-type {\n",
              "        vertical-align: middle;\n",
              "    }\n",
              "\n",
              "    .dataframe tbody tr th {\n",
              "        vertical-align: top;\n",
              "    }\n",
              "\n",
              "    .dataframe thead th {\n",
              "        text-align: right;\n",
              "    }\n",
              "</style>\n",
              "<table border=\"1\" class=\"dataframe\">\n",
              "  <thead>\n",
              "    <tr style=\"text-align: right;\">\n",
              "      <th></th>\n",
              "      <th>name</th>\n",
              "      <th>age</th>\n",
              "      <th>sex</th>\n",
              "      <th>SchoolEnrolled</th>\n",
              "      <th>SatScore</th>\n",
              "    </tr>\n",
              "  </thead>\n",
              "  <tbody>\n",
              "    <tr>\n",
              "      <th>1</th>\n",
              "      <td>John</td>\n",
              "      <td>17</td>\n",
              "      <td>Male</td>\n",
              "      <td>Princeton</td>\n",
              "      <td>1800</td>\n",
              "    </tr>\n",
              "    <tr>\n",
              "      <th>2</th>\n",
              "      <td>Marie</td>\n",
              "      <td>18</td>\n",
              "      <td>Female</td>\n",
              "      <td>Harvard</td>\n",
              "      <td>1550</td>\n",
              "    </tr>\n",
              "    <tr>\n",
              "      <th>3</th>\n",
              "      <td>Amanda</td>\n",
              "      <td>16</td>\n",
              "      <td>Female</td>\n",
              "      <td>Columbia</td>\n",
              "      <td>1700</td>\n",
              "    </tr>\n",
              "    <tr>\n",
              "      <th>4</th>\n",
              "      <td>Jody</td>\n",
              "      <td>17</td>\n",
              "      <td>Female</td>\n",
              "      <td>MIT</td>\n",
              "      <td>1600</td>\n",
              "    </tr>\n",
              "    <tr>\n",
              "      <th>5</th>\n",
              "      <td>Stacy</td>\n",
              "      <td>18</td>\n",
              "      <td>Female</td>\n",
              "      <td>Yale</td>\n",
              "      <td>1650</td>\n",
              "    </tr>\n",
              "    <tr>\n",
              "      <th>6</th>\n",
              "      <td>Brian</td>\n",
              "      <td>17</td>\n",
              "      <td>Male</td>\n",
              "      <td>Stanford</td>\n",
              "      <td>1500</td>\n",
              "    </tr>\n",
              "    <tr>\n",
              "      <th>7</th>\n",
              "      <td>Brad</td>\n",
              "      <td>16</td>\n",
              "      <td>Male</td>\n",
              "      <td>UChicago</td>\n",
              "      <td>1550</td>\n",
              "    </tr>\n",
              "    <tr>\n",
              "      <th>8</th>\n",
              "      <td>Mark</td>\n",
              "      <td>15</td>\n",
              "      <td>Male</td>\n",
              "      <td>Penn</td>\n",
              "      <td>1400</td>\n",
              "    </tr>\n",
              "    <tr>\n",
              "      <th>9</th>\n",
              "      <td>Susan</td>\n",
              "      <td>16</td>\n",
              "      <td>Female</td>\n",
              "      <td>CalTech</td>\n",
              "      <td>1450</td>\n",
              "    </tr>\n",
              "    <tr>\n",
              "      <th>10</th>\n",
              "      <td>Jim</td>\n",
              "      <td>16</td>\n",
              "      <td>Male</td>\n",
              "      <td>Duke</td>\n",
              "      <td>1300</td>\n",
              "    </tr>\n",
              "  </tbody>\n",
              "</table>\n",
              "</div>\n",
              "    <div class=\"colab-df-buttons\">\n",
              "\n",
              "  <div class=\"colab-df-container\">\n",
              "    <button class=\"colab-df-convert\" onclick=\"convertToInteractive('df-09e20bf7-3d3c-4f54-916b-2153d1670f3e')\"\n",
              "            title=\"Convert this dataframe to an interactive table.\"\n",
              "            style=\"display:none;\">\n",
              "\n",
              "  <svg xmlns=\"http://www.w3.org/2000/svg\" height=\"24px\" viewBox=\"0 -960 960 960\">\n",
              "    <path d=\"M120-120v-720h720v720H120Zm60-500h600v-160H180v160Zm220 220h160v-160H400v160Zm0 220h160v-160H400v160ZM180-400h160v-160H180v160Zm440 0h160v-160H620v160ZM180-180h160v-160H180v160Zm440 0h160v-160H620v160Z\"/>\n",
              "  </svg>\n",
              "    </button>\n",
              "\n",
              "  <style>\n",
              "    .colab-df-container {\n",
              "      display:flex;\n",
              "      gap: 12px;\n",
              "    }\n",
              "\n",
              "    .colab-df-convert {\n",
              "      background-color: #E8F0FE;\n",
              "      border: none;\n",
              "      border-radius: 50%;\n",
              "      cursor: pointer;\n",
              "      display: none;\n",
              "      fill: #1967D2;\n",
              "      height: 32px;\n",
              "      padding: 0 0 0 0;\n",
              "      width: 32px;\n",
              "    }\n",
              "\n",
              "    .colab-df-convert:hover {\n",
              "      background-color: #E2EBFA;\n",
              "      box-shadow: 0px 1px 2px rgba(60, 64, 67, 0.3), 0px 1px 3px 1px rgba(60, 64, 67, 0.15);\n",
              "      fill: #174EA6;\n",
              "    }\n",
              "\n",
              "    .colab-df-buttons div {\n",
              "      margin-bottom: 4px;\n",
              "    }\n",
              "\n",
              "    [theme=dark] .colab-df-convert {\n",
              "      background-color: #3B4455;\n",
              "      fill: #D2E3FC;\n",
              "    }\n",
              "\n",
              "    [theme=dark] .colab-df-convert:hover {\n",
              "      background-color: #434B5C;\n",
              "      box-shadow: 0px 1px 3px 1px rgba(0, 0, 0, 0.15);\n",
              "      filter: drop-shadow(0px 1px 2px rgba(0, 0, 0, 0.3));\n",
              "      fill: #FFFFFF;\n",
              "    }\n",
              "  </style>\n",
              "\n",
              "    <script>\n",
              "      const buttonEl =\n",
              "        document.querySelector('#df-09e20bf7-3d3c-4f54-916b-2153d1670f3e button.colab-df-convert');\n",
              "      buttonEl.style.display =\n",
              "        google.colab.kernel.accessAllowed ? 'block' : 'none';\n",
              "\n",
              "      async function convertToInteractive(key) {\n",
              "        const element = document.querySelector('#df-09e20bf7-3d3c-4f54-916b-2153d1670f3e');\n",
              "        const dataTable =\n",
              "          await google.colab.kernel.invokeFunction('convertToInteractive',\n",
              "                                                    [key], {});\n",
              "        if (!dataTable) return;\n",
              "\n",
              "        const docLinkHtml = 'Like what you see? Visit the ' +\n",
              "          '<a target=\"_blank\" href=https://colab.research.google.com/notebooks/data_table.ipynb>data table notebook</a>'\n",
              "          + ' to learn more about interactive tables.';\n",
              "        element.innerHTML = '';\n",
              "        dataTable['output_type'] = 'display_data';\n",
              "        await google.colab.output.renderOutput(dataTable, element);\n",
              "        const docLink = document.createElement('div');\n",
              "        docLink.innerHTML = docLinkHtml;\n",
              "        element.appendChild(docLink);\n",
              "      }\n",
              "    </script>\n",
              "  </div>\n",
              "\n",
              "\n",
              "<div id=\"df-a6e0806d-3f19-40b2-b1d9-61d9162fc595\">\n",
              "  <button class=\"colab-df-quickchart\" onclick=\"quickchart('df-a6e0806d-3f19-40b2-b1d9-61d9162fc595')\"\n",
              "            title=\"Suggest charts\"\n",
              "            style=\"display:none;\">\n",
              "\n",
              "<svg xmlns=\"http://www.w3.org/2000/svg\" height=\"24px\"viewBox=\"0 0 24 24\"\n",
              "     width=\"24px\">\n",
              "    <g>\n",
              "        <path d=\"M19 3H5c-1.1 0-2 .9-2 2v14c0 1.1.9 2 2 2h14c1.1 0 2-.9 2-2V5c0-1.1-.9-2-2-2zM9 17H7v-7h2v7zm4 0h-2V7h2v10zm4 0h-2v-4h2v4z\"/>\n",
              "    </g>\n",
              "</svg>\n",
              "  </button>\n",
              "\n",
              "<style>\n",
              "  .colab-df-quickchart {\n",
              "      --bg-color: #E8F0FE;\n",
              "      --fill-color: #1967D2;\n",
              "      --hover-bg-color: #E2EBFA;\n",
              "      --hover-fill-color: #174EA6;\n",
              "      --disabled-fill-color: #AAA;\n",
              "      --disabled-bg-color: #DDD;\n",
              "  }\n",
              "\n",
              "  [theme=dark] .colab-df-quickchart {\n",
              "      --bg-color: #3B4455;\n",
              "      --fill-color: #D2E3FC;\n",
              "      --hover-bg-color: #434B5C;\n",
              "      --hover-fill-color: #FFFFFF;\n",
              "      --disabled-bg-color: #3B4455;\n",
              "      --disabled-fill-color: #666;\n",
              "  }\n",
              "\n",
              "  .colab-df-quickchart {\n",
              "    background-color: var(--bg-color);\n",
              "    border: none;\n",
              "    border-radius: 50%;\n",
              "    cursor: pointer;\n",
              "    display: none;\n",
              "    fill: var(--fill-color);\n",
              "    height: 32px;\n",
              "    padding: 0;\n",
              "    width: 32px;\n",
              "  }\n",
              "\n",
              "  .colab-df-quickchart:hover {\n",
              "    background-color: var(--hover-bg-color);\n",
              "    box-shadow: 0 1px 2px rgba(60, 64, 67, 0.3), 0 1px 3px 1px rgba(60, 64, 67, 0.15);\n",
              "    fill: var(--button-hover-fill-color);\n",
              "  }\n",
              "\n",
              "  .colab-df-quickchart-complete:disabled,\n",
              "  .colab-df-quickchart-complete:disabled:hover {\n",
              "    background-color: var(--disabled-bg-color);\n",
              "    fill: var(--disabled-fill-color);\n",
              "    box-shadow: none;\n",
              "  }\n",
              "\n",
              "  .colab-df-spinner {\n",
              "    border: 2px solid var(--fill-color);\n",
              "    border-color: transparent;\n",
              "    border-bottom-color: var(--fill-color);\n",
              "    animation:\n",
              "      spin 1s steps(1) infinite;\n",
              "  }\n",
              "\n",
              "  @keyframes spin {\n",
              "    0% {\n",
              "      border-color: transparent;\n",
              "      border-bottom-color: var(--fill-color);\n",
              "      border-left-color: var(--fill-color);\n",
              "    }\n",
              "    20% {\n",
              "      border-color: transparent;\n",
              "      border-left-color: var(--fill-color);\n",
              "      border-top-color: var(--fill-color);\n",
              "    }\n",
              "    30% {\n",
              "      border-color: transparent;\n",
              "      border-left-color: var(--fill-color);\n",
              "      border-top-color: var(--fill-color);\n",
              "      border-right-color: var(--fill-color);\n",
              "    }\n",
              "    40% {\n",
              "      border-color: transparent;\n",
              "      border-right-color: var(--fill-color);\n",
              "      border-top-color: var(--fill-color);\n",
              "    }\n",
              "    60% {\n",
              "      border-color: transparent;\n",
              "      border-right-color: var(--fill-color);\n",
              "    }\n",
              "    80% {\n",
              "      border-color: transparent;\n",
              "      border-right-color: var(--fill-color);\n",
              "      border-bottom-color: var(--fill-color);\n",
              "    }\n",
              "    90% {\n",
              "      border-color: transparent;\n",
              "      border-bottom-color: var(--fill-color);\n",
              "    }\n",
              "  }\n",
              "</style>\n",
              "\n",
              "  <script>\n",
              "    async function quickchart(key) {\n",
              "      const quickchartButtonEl =\n",
              "        document.querySelector('#' + key + ' button');\n",
              "      quickchartButtonEl.disabled = true;  // To prevent multiple clicks.\n",
              "      quickchartButtonEl.classList.add('colab-df-spinner');\n",
              "      try {\n",
              "        const charts = await google.colab.kernel.invokeFunction(\n",
              "            'suggestCharts', [key], {});\n",
              "      } catch (error) {\n",
              "        console.error('Error during call to suggestCharts:', error);\n",
              "      }\n",
              "      quickchartButtonEl.classList.remove('colab-df-spinner');\n",
              "      quickchartButtonEl.classList.add('colab-df-quickchart-complete');\n",
              "    }\n",
              "    (() => {\n",
              "      let quickchartButtonEl =\n",
              "        document.querySelector('#df-a6e0806d-3f19-40b2-b1d9-61d9162fc595 button');\n",
              "      quickchartButtonEl.style.display =\n",
              "        google.colab.kernel.accessAllowed ? 'block' : 'none';\n",
              "    })();\n",
              "  </script>\n",
              "</div>\n",
              "\n",
              "  <div id=\"id_431cbf32-a7e6-4ae9-9f87-dbc0d9506c64\">\n",
              "    <style>\n",
              "      .colab-df-generate {\n",
              "        background-color: #E8F0FE;\n",
              "        border: none;\n",
              "        border-radius: 50%;\n",
              "        cursor: pointer;\n",
              "        display: none;\n",
              "        fill: #1967D2;\n",
              "        height: 32px;\n",
              "        padding: 0 0 0 0;\n",
              "        width: 32px;\n",
              "      }\n",
              "\n",
              "      .colab-df-generate:hover {\n",
              "        background-color: #E2EBFA;\n",
              "        box-shadow: 0px 1px 2px rgba(60, 64, 67, 0.3), 0px 1px 3px 1px rgba(60, 64, 67, 0.15);\n",
              "        fill: #174EA6;\n",
              "      }\n",
              "\n",
              "      [theme=dark] .colab-df-generate {\n",
              "        background-color: #3B4455;\n",
              "        fill: #D2E3FC;\n",
              "      }\n",
              "\n",
              "      [theme=dark] .colab-df-generate:hover {\n",
              "        background-color: #434B5C;\n",
              "        box-shadow: 0px 1px 3px 1px rgba(0, 0, 0, 0.15);\n",
              "        filter: drop-shadow(0px 1px 2px rgba(0, 0, 0, 0.3));\n",
              "        fill: #FFFFFF;\n",
              "      }\n",
              "    </style>\n",
              "    <button class=\"colab-df-generate\" onclick=\"generateWithVariable('df_stu')\"\n",
              "            title=\"Generate code using this dataframe.\"\n",
              "            style=\"display:none;\">\n",
              "\n",
              "  <svg xmlns=\"http://www.w3.org/2000/svg\" height=\"24px\"viewBox=\"0 0 24 24\"\n",
              "       width=\"24px\">\n",
              "    <path d=\"M7,19H8.4L18.45,9,17,7.55,7,17.6ZM5,21V16.75L18.45,3.32a2,2,0,0,1,2.83,0l1.4,1.43a1.91,1.91,0,0,1,.58,1.4,1.91,1.91,0,0,1-.58,1.4L9.25,21ZM18.45,9,17,7.55Zm-12,3A5.31,5.31,0,0,0,4.9,8.1,5.31,5.31,0,0,0,1,6.5,5.31,5.31,0,0,0,4.9,4.9,5.31,5.31,0,0,0,6.5,1,5.31,5.31,0,0,0,8.1,4.9,5.31,5.31,0,0,0,12,6.5,5.46,5.46,0,0,0,6.5,12Z\"/>\n",
              "  </svg>\n",
              "    </button>\n",
              "    <script>\n",
              "      (() => {\n",
              "      const buttonEl =\n",
              "        document.querySelector('#id_431cbf32-a7e6-4ae9-9f87-dbc0d9506c64 button.colab-df-generate');\n",
              "      buttonEl.style.display =\n",
              "        google.colab.kernel.accessAllowed ? 'block' : 'none';\n",
              "\n",
              "      buttonEl.onclick = () => {\n",
              "        google.colab.notebook.generateWithVariable('df_stu');\n",
              "      }\n",
              "      })();\n",
              "    </script>\n",
              "  </div>\n",
              "\n",
              "    </div>\n",
              "  </div>\n"
            ],
            "application/vnd.google.colaboratory.intrinsic+json": {
              "type": "dataframe",
              "variable_name": "df_stu",
              "repr_error": "0"
            }
          },
          "metadata": {},
          "execution_count": 2
        }
      ]
    },
    {
      "cell_type": "code",
      "source": [
        "df_stu.columns = ['Name', 'Age', 'Sex', 'SchoolEnrolled', 'SatScore']\n",
        "print(df_stu)"
      ],
      "metadata": {
        "colab": {
          "base_uri": "https://localhost:8080/"
        },
        "id": "HzyHMk-MpRbs",
        "outputId": "5cb6124a-db2d-4aee-a634-b558b0f57d98"
      },
      "execution_count": 3,
      "outputs": [
        {
          "output_type": "stream",
          "name": "stdout",
          "text": [
            "      Name Age     Sex SchoolEnrolled SatScore\n",
            "1     John  17    Male      Princeton     1800\n",
            "2    Marie  18  Female        Harvard     1550\n",
            "3   Amanda  16  Female       Columbia     1700\n",
            "4     Jody  17  Female            MIT     1600\n",
            "5    Stacy  18  Female           Yale     1650\n",
            "6    Brian  17    Male       Stanford     1500\n",
            "7     Brad  16    Male       UChicago     1550\n",
            "8     Mark  15    Male           Penn     1400\n",
            "9    Susan  16  Female        CalTech     1450\n",
            "10     Jim  16    Male           Duke     1300\n"
          ]
        }
      ]
    },
    {
      "cell_type": "code",
      "source": [
        "# Save to current directory instead\n",
        "df_stu.to_csv(\"data.csv\", index=False)\n",
        "\n",
        "# Verify it's saved by reading it back\n",
        "df_loaded = pd.read_csv(\"data.csv\")\n",
        "print(df_loaded.head())\n"
      ],
      "metadata": {
        "colab": {
          "base_uri": "https://localhost:8080/"
        },
        "id": "ZJzk_tGIpSPT",
        "outputId": "104dd70d-0111-4212-900d-3231a17c7463"
      },
      "execution_count": 4,
      "outputs": [
        {
          "output_type": "stream",
          "name": "stdout",
          "text": [
            "     Name  Age     Sex SchoolEnrolled  SatScore\n",
            "0    John   17    Male      Princeton      1800\n",
            "1   Marie   18  Female        Harvard      1550\n",
            "2  Amanda   16  Female       Columbia      1700\n",
            "3    Jody   17  Female            MIT      1600\n",
            "4   Stacy   18  Female           Yale      1650\n"
          ]
        }
      ]
    },
    {
      "cell_type": "code",
      "source": [
        "df_stu.to_excel(\"data.xlsx\", index=False)\n",
        "\n",
        "df_excel_check = pd.read_excel(\"data.xlsx\")\n",
        "print(df_excel_check.head())"
      ],
      "metadata": {
        "colab": {
          "base_uri": "https://localhost:8080/"
        },
        "id": "7pvyb2CipUwB",
        "outputId": "b893ff31-8621-4f6b-8a6b-cabe0870dd4b"
      },
      "execution_count": 5,
      "outputs": [
        {
          "output_type": "stream",
          "name": "stdout",
          "text": [
            "     Name  Age     Sex SchoolEnrolled  SatScore\n",
            "0    John   17    Male      Princeton      1800\n",
            "1   Marie   18  Female        Harvard      1550\n",
            "2  Amanda   16  Female       Columbia      1700\n",
            "3    Jody   17  Female            MIT      1600\n",
            "4   Stacy   18  Female           Yale      1650\n"
          ]
        }
      ]
    },
    {
      "cell_type": "code",
      "source": [
        "df_from_excel = pd.read_excel(\"data.xlsx\", index_col=0)\n",
        "print(df_from_excel.head())\n"
      ],
      "metadata": {
        "colab": {
          "base_uri": "https://localhost:8080/"
        },
        "id": "hpfSHmr7pX-x",
        "outputId": "95f72090-6e8a-4b9c-866c-77e79beae635"
      },
      "execution_count": 6,
      "outputs": [
        {
          "output_type": "stream",
          "name": "stdout",
          "text": [
            "        Age     Sex SchoolEnrolled  SatScore\n",
            "Name                                        \n",
            "John     17    Male      Princeton      1800\n",
            "Marie    18  Female        Harvard      1550\n",
            "Amanda   16  Female       Columbia      1700\n",
            "Jody     17  Female            MIT      1600\n",
            "Stacy    18  Female           Yale      1650\n"
          ]
        }
      ]
    },
    {
      "cell_type": "code",
      "source": [
        "df_stu.to_json(\"data.json\", orient='records', lines=True)\n",
        "\n",
        "with open(\"data.json\", \"r\") as f:\n",
        "    for _ in range(5):\n",
        "        print(f.readline().strip())\n"
      ],
      "metadata": {
        "colab": {
          "base_uri": "https://localhost:8080/"
        },
        "id": "GIiM9mqDqSwH",
        "outputId": "6d6b9f92-75cd-460d-bdc9-0586812eaacc"
      },
      "execution_count": 7,
      "outputs": [
        {
          "output_type": "stream",
          "name": "stdout",
          "text": [
            "{\"Name\":\"John\",\"Age\":\"17\",\"Sex\":\"Male\",\"SchoolEnrolled\":\"Princeton\",\"SatScore\":1800}\n",
            "{\"Name\":\"Marie\",\"Age\":\"18\",\"Sex\":\"Female\",\"SchoolEnrolled\":\"Harvard\",\"SatScore\":1550}\n",
            "{\"Name\":\"Amanda\",\"Age\":\"16\",\"Sex\":\"Female\",\"SchoolEnrolled\":\"Columbia\",\"SatScore\":1700}\n",
            "{\"Name\":\"Jody\",\"Age\":\"17\",\"Sex\":\"Female\",\"SchoolEnrolled\":\"MIT\",\"SatScore\":1600}\n",
            "{\"Name\":\"Stacy\",\"Age\":\"18\",\"Sex\":\"Female\",\"SchoolEnrolled\":\"Yale\",\"SatScore\":1650}\n"
          ]
        }
      ]
    },
    {
      "cell_type": "code",
      "source": [
        "df_from_json = pd.read_json(\"data.json\", lines=True)\n",
        "print(df_from_json.head())\n"
      ],
      "metadata": {
        "colab": {
          "base_uri": "https://localhost:8080/"
        },
        "id": "9gHw4uw-qwPx",
        "outputId": "8dd1360f-62e6-4838-f322-a4c9b7027456"
      },
      "execution_count": 8,
      "outputs": [
        {
          "output_type": "stream",
          "name": "stdout",
          "text": [
            "     Name  Age     Sex SchoolEnrolled  SatScore\n",
            "0    John   17    Male      Princeton      1800\n",
            "1   Marie   18  Female        Harvard      1550\n",
            "2  Amanda   16  Female       Columbia      1700\n",
            "3    Jody   17  Female            MIT      1600\n",
            "4   Stacy   18  Female           Yale      1650\n"
          ]
        }
      ]
    },
    {
      "cell_type": "code",
      "source": [
        "import lxml\n",
        "import html5lib\n",
        "df_stu.to_html(\"data.html\")\n",
        "\n",
        "with open(\"data.html\", \"r\") as f:\n",
        "    for _ in range(15):\n",
        "        print(f.readline().strip())\n"
      ],
      "metadata": {
        "colab": {
          "base_uri": "https://localhost:8080/"
        },
        "id": "wkd3Qj3rtPrF",
        "outputId": "ed39af21-b7d1-414f-953f-5657b0f1a80f"
      },
      "execution_count": 14,
      "outputs": [
        {
          "output_type": "stream",
          "name": "stdout",
          "text": [
            "<table border=\"1\" class=\"dataframe\">\n",
            "<thead>\n",
            "<tr style=\"text-align: right;\">\n",
            "<th></th>\n",
            "<th>Name</th>\n",
            "<th>Age</th>\n",
            "<th>Sex</th>\n",
            "<th>SchoolEnrolled</th>\n",
            "<th>SatScore</th>\n",
            "</tr>\n",
            "</thead>\n",
            "<tbody>\n",
            "<tr>\n",
            "<th>1</th>\n",
            "<td>John</td>\n"
          ]
        }
      ]
    },
    {
      "cell_type": "code",
      "source": [
        "$ conda install lxml html5lib\n",
        "\n",
        "\n"
      ],
      "metadata": {
        "colab": {
          "base_uri": "https://localhost:8080/"
        },
        "id": "PB3ImBmutmpQ",
        "outputId": "a0393f4b-2ffb-433f-d78a-9a5ce964c113"
      },
      "execution_count": 11,
      "outputs": [
        {
          "output_type": "stream",
          "name": "stdout",
          "text": [
            "Requirement already satisfied: lxml in /usr/local/lib/python3.11/dist-packages (5.3.2)\n",
            "Requirement already satisfied: html5lib in /usr/local/lib/python3.11/dist-packages (1.1)\n",
            "Requirement already satisfied: six>=1.9 in /usr/local/lib/python3.11/dist-packages (from html5lib) (1.17.0)\n",
            "Requirement already satisfied: webencodings in /usr/local/lib/python3.11/dist-packages (from html5lib) (0.5.1)\n"
          ]
        }
      ]
    },
    {
      "cell_type": "code",
      "source": [
        "!sudo apt-get update\n",
        "!sudo apt-get install xclip\n",
        "!pip install pyperclip\n"
      ],
      "metadata": {
        "colab": {
          "base_uri": "https://localhost:8080/",
          "height": 1000
        },
        "id": "RXZs14Nlt-hF",
        "outputId": "738796c2-1952-4979-c556-07960ece68a4"
      },
      "execution_count": 18,
      "outputs": [
        {
          "output_type": "stream",
          "name": "stdout",
          "text": [
            "\r0% [Working]\r            \rGet:1 http://security.ubuntu.com/ubuntu jammy-security InRelease [129 kB]\n",
            "Get:2 https://cloud.r-project.org/bin/linux/ubuntu jammy-cran40/ InRelease [3,632 B]\n",
            "Hit:3 https://developer.download.nvidia.com/compute/cuda/repos/ubuntu2204/x86_64  InRelease\n",
            "Get:4 https://r2u.stat.illinois.edu/ubuntu jammy InRelease [6,555 B]\n",
            "Hit:5 http://archive.ubuntu.com/ubuntu jammy InRelease\n",
            "Get:6 http://archive.ubuntu.com/ubuntu jammy-updates InRelease [128 kB]\n",
            "Get:7 https://cloud.r-project.org/bin/linux/ubuntu jammy-cran40/ Packages [73.0 kB]\n",
            "Get:8 http://security.ubuntu.com/ubuntu jammy-security/universe amd64 Packages [1,243 kB]\n",
            "Get:9 http://security.ubuntu.com/ubuntu jammy-security/main amd64 Packages [2,788 kB]\n",
            "Hit:10 http://archive.ubuntu.com/ubuntu jammy-backports InRelease\n",
            "Hit:11 https://ppa.launchpadcontent.net/deadsnakes/ppa/ubuntu jammy InRelease\n",
            "Hit:12 https://ppa.launchpadcontent.net/graphics-drivers/ppa/ubuntu jammy InRelease\n",
            "Get:13 https://r2u.stat.illinois.edu/ubuntu jammy/main all Packages [8,847 kB]\n",
            "Hit:14 https://ppa.launchpadcontent.net/ubuntugis/ppa/ubuntu jammy InRelease\n",
            "Get:15 https://r2u.stat.illinois.edu/ubuntu jammy/main amd64 Packages [2,697 kB]\n",
            "Get:16 http://archive.ubuntu.com/ubuntu jammy-updates/main amd64 Packages [3,101 kB]\n",
            "Get:17 http://archive.ubuntu.com/ubuntu jammy-updates/restricted amd64 Packages [4,161 kB]\n",
            "Get:18 http://archive.ubuntu.com/ubuntu jammy-updates/universe amd64 Packages [1,542 kB]\n",
            "Fetched 24.7 MB in 3s (7,742 kB/s)\n",
            "Reading package lists... Done\n",
            "W: Skipping acquire of configured file 'main/source/Sources' as repository 'https://r2u.stat.illinois.edu/ubuntu jammy InRelease' does not seem to provide it (sources.list entry misspelt?)\n",
            "Reading package lists... Done\n",
            "Building dependency tree... Done\n",
            "Reading state information... Done\n",
            "The following NEW packages will be installed:\n",
            "  xclip\n",
            "0 upgraded, 1 newly installed, 0 to remove and 47 not upgraded.\n",
            "Need to get 18.3 kB of archives.\n",
            "After this operation, 60.4 kB of additional disk space will be used.\n",
            "Get:1 http://archive.ubuntu.com/ubuntu jammy/universe amd64 xclip amd64 0.13-2 [18.3 kB]\n",
            "Fetched 18.3 kB in 0s (61.9 kB/s)\n",
            "debconf: unable to initialize frontend: Dialog\n",
            "debconf: (No usable dialog-like program is installed, so the dialog based frontend cannot be used. at /usr/share/perl5/Debconf/FrontEnd/Dialog.pm line 78, <> line 1.)\n",
            "debconf: falling back to frontend: Readline\n",
            "debconf: unable to initialize frontend: Readline\n",
            "debconf: (This frontend requires a controlling tty.)\n",
            "debconf: falling back to frontend: Teletype\n",
            "dpkg-preconfigure: unable to re-open stdin: \n",
            "Selecting previously unselected package xclip.\n",
            "(Reading database ... 126315 files and directories currently installed.)\n",
            "Preparing to unpack .../xclip_0.13-2_amd64.deb ...\n",
            "Unpacking xclip (0.13-2) ...\n",
            "Setting up xclip (0.13-2) ...\n",
            "Processing triggers for man-db (2.10.2-1) ...\n",
            "Requirement already satisfied: pyperclip in /usr/local/lib/python3.11/dist-packages (1.9.0)\n"
          ]
        },
        {
          "output_type": "error",
          "ename": "PyperclipException",
          "evalue": "Pyperclip could not find a copy/paste mechanism for your system. For more information, please visit https://pyperclip.readthedocs.io/en/latest/index.html#not-implemented-error\nOn Linux, you can run `sudo apt-get install xclip` or `sudo apt-get install xselect` to install a copy/paste mechanism.",
          "traceback": [
            "\u001b[0;31m---------------------------------------------------------------------------\u001b[0m",
            "\u001b[0;31mPyperclipException\u001b[0m                        Traceback (most recent call last)",
            "\u001b[0;32m<ipython-input-18-ed13fc62614f>\u001b[0m in \u001b[0;36m<cell line: 0>\u001b[0;34m()\u001b[0m\n\u001b[1;32m      7\u001b[0m \u001b[0;31m# Copy some data to the clipboard using pyperclip\u001b[0m\u001b[0;34m\u001b[0m\u001b[0;34m\u001b[0m\u001b[0m\n\u001b[1;32m      8\u001b[0m \u001b[0mdata\u001b[0m \u001b[0;34m=\u001b[0m \u001b[0;34m\"Name,Age,Sex\\nJohn,17,Male\\nMarie,18,Female\"\u001b[0m\u001b[0;34m\u001b[0m\u001b[0;34m\u001b[0m\u001b[0m\n\u001b[0;32m----> 9\u001b[0;31m \u001b[0mpyperclip\u001b[0m\u001b[0;34m.\u001b[0m\u001b[0mcopy\u001b[0m\u001b[0;34m(\u001b[0m\u001b[0mdata\u001b[0m\u001b[0;34m)\u001b[0m\u001b[0;34m\u001b[0m\u001b[0;34m\u001b[0m\u001b[0m\n\u001b[0m\u001b[1;32m     10\u001b[0m \u001b[0;34m\u001b[0m\u001b[0m\n\u001b[1;32m     11\u001b[0m \u001b[0;31m# Now try to read the clipboard with pandas\u001b[0m\u001b[0;34m\u001b[0m\u001b[0;34m\u001b[0m\u001b[0m\n",
            "\u001b[0;32m/usr/local/lib/python3.11/dist-packages/pyperclip/__init__.py\u001b[0m in \u001b[0;36m__call__\u001b[0;34m(self, *args, **kwargs)\u001b[0m\n\u001b[1;32m    293\u001b[0m             \u001b[0;32mif\u001b[0m \u001b[0msys\u001b[0m\u001b[0;34m.\u001b[0m\u001b[0mplatform\u001b[0m \u001b[0;34m==\u001b[0m \u001b[0;34m'linux'\u001b[0m\u001b[0;34m:\u001b[0m\u001b[0;34m\u001b[0m\u001b[0;34m\u001b[0m\u001b[0m\n\u001b[1;32m    294\u001b[0m                 \u001b[0madditionalInfo\u001b[0m \u001b[0;34m=\u001b[0m \u001b[0;34m'\\nOn Linux, you can run `sudo apt-get install xclip` or `sudo apt-get install xselect` to install a copy/paste mechanism.'\u001b[0m\u001b[0;34m\u001b[0m\u001b[0;34m\u001b[0m\u001b[0m\n\u001b[0;32m--> 295\u001b[0;31m             \u001b[0;32mraise\u001b[0m \u001b[0mPyperclipException\u001b[0m\u001b[0;34m(\u001b[0m\u001b[0;34m'Pyperclip could not find a copy/paste mechanism for your system. For more information, please visit https://pyperclip.readthedocs.io/en/latest/index.html#not-implemented-error'\u001b[0m \u001b[0;34m+\u001b[0m \u001b[0madditionalInfo\u001b[0m\u001b[0;34m)\u001b[0m\u001b[0;34m\u001b[0m\u001b[0;34m\u001b[0m\u001b[0m\n\u001b[0m\u001b[1;32m    296\u001b[0m \u001b[0;34m\u001b[0m\u001b[0m\n\u001b[1;32m    297\u001b[0m         \u001b[0;32mif\u001b[0m \u001b[0m_IS_RUNNING_PYTHON_2\u001b[0m\u001b[0;34m:\u001b[0m\u001b[0;34m\u001b[0m\u001b[0;34m\u001b[0m\u001b[0m\n",
            "\u001b[0;31mPyperclipException\u001b[0m: Pyperclip could not find a copy/paste mechanism for your system. For more information, please visit https://pyperclip.readthedocs.io/en/latest/index.html#not-implemented-error\nOn Linux, you can run `sudo apt-get install xclip` or `sudo apt-get install xselect` to install a copy/paste mechanism."
          ]
        }
      ]
    },
    {
      "cell_type": "code",
      "source": [
        "\n",
        "import pandas as pd\n",
        "from io import StringIO\n",
        "data = \"Name,Age,Sex\\nJohn,17,Male\\nMarie,18,Female\"\n",
        "# Use StringIO to simulate reading from clipboard (as if it's a file)\n",
        "data_io = StringIO(data)\n",
        "df_clip = pd.read_csv(data_io)\n",
        "print(df_clip.head())\n"
      ],
      "metadata": {
        "colab": {
          "base_uri": "https://localhost:8080/"
        },
        "id": "D1bmroIQwaFR",
        "outputId": "009b12e6-f61f-4e68-8f68-d60263b6c819"
      },
      "execution_count": 20,
      "outputs": [
        {
          "output_type": "stream",
          "name": "stdout",
          "text": [
            "    Name  Age     Sex\n",
            "0   John   17    Male\n",
            "1  Marie   18  Female\n"
          ]
        }
      ]
    },
    {
      "cell_type": "code",
      "source": [
        "with open(\"things.txt\", \"w\") as file:\n",
        "    file.write(\"Elephant\\n\")\n",
        "    file.write(\"Mango\\n\")\n",
        "    file.write(\"Canada\\n\")\n"
      ],
      "metadata": {
        "id": "uq6zbyfFxHIh"
      },
      "execution_count": 21,
      "outputs": []
    },
    {
      "cell_type": "code",
      "source": [
        "with open(\"things.txt\", \"r\") as file:\n",
        "    content = file.read()\n",
        "\n",
        "print(content)\n"
      ],
      "metadata": {
        "colab": {
          "base_uri": "https://localhost:8080/"
        },
        "id": "Do8Hq4udzT-J",
        "outputId": "ea49c959-fea1-4540-9726-905c7a70fdc2"
      },
      "execution_count": 22,
      "outputs": [
        {
          "output_type": "stream",
          "name": "stdout",
          "text": [
            "Elephant\n",
            "Mango\n",
            "Canada\n",
            "\n"
          ]
        }
      ]
    },
    {
      "cell_type": "code",
      "source": [],
      "metadata": {
        "id": "ipGhIcodzUow"
      },
      "execution_count": null,
      "outputs": []
    }
  ]
}